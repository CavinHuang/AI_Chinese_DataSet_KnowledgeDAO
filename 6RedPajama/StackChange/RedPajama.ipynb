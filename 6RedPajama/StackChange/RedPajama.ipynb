{
 "cells": [
  {
   "cell_type": "code",
   "execution_count": 21,
   "id": "b71a3081",
   "metadata": {},
   "outputs": [],
   "source": [
    "import KnowledgeDAO as kd\n",
    "\n",
    "load_file_name = 'data_1.json'\n",
    "save_json_file_name = 'output.json'\n",
    "save_jsonl_file_name = 'output.jsonl'\n",
    "\n",
    "data = kd.load_json(load_file_name)"
   ]
  },
  {
   "cell_type": "code",
   "execution_count": 29,
   "id": "022a76a3",
   "metadata": {},
   "outputs": [],
   "source": [
    "import re\n",
    "\n",
    "def extract_qa_content(text):\n",
    "    parts = text.split(\"Q:\")\n",
    "    if len(parts) > 1:\n",
    "        q_content = parts[1].split(\"A:\")[0].strip()\n",
    "        a_contents = [a.strip() for a in parts[1].split(\"A:\")[1:] if a.strip()]\n",
    "        return q_content, a_contents\n",
    "    else:\n",
    "        return None\n",
    "\n",
    "data_clean =[]\n",
    "for item in data:\n",
    "    q_content, a_contents = extract_qa_content(item)\n",
    "    \n",
    "    tmp = {}\n",
    "    tmp[\"question\"] = str(q_content)\n",
    "    tmp[\"answer\"] = a_contents\n",
    "    \n",
    "    data_clean.append(tmp)\n"
   ]
  },
  {
   "cell_type": "code",
   "execution_count": null,
   "id": "403b2a22",
   "metadata": {},
   "outputs": [],
   "source": []
  }
 ],
 "metadata": {
  "kernelspec": {
   "display_name": "Python 3 (ipykernel)",
   "language": "python",
   "name": "python3"
  },
  "language_info": {
   "codemirror_mode": {
    "name": "ipython",
    "version": 3
   },
   "file_extension": ".py",
   "mimetype": "text/x-python",
   "name": "python",
   "nbconvert_exporter": "python",
   "pygments_lexer": "ipython3",
   "version": "3.11.3"
  }
 },
 "nbformat": 4,
 "nbformat_minor": 5
}
